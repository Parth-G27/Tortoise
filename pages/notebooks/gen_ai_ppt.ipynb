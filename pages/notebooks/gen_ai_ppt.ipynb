{
 "cells": [
  {
   "cell_type": "code",
   "execution_count": 1,
   "metadata": {},
   "outputs": [
    {
     "name": "stdout",
     "output_type": "stream",
     "text": [
      "Requirement already satisfied: flask in d:\\deep learning with pytorch\\_pytorch_\\.venv\\lib\\site-packages (3.0.3)\n",
      "Requirement already satisfied: jupyter_client in d:\\deep learning with pytorch\\_pytorch_\\.venv\\lib\\site-packages (8.3.1)\n",
      "Requirement already satisfied: Werkzeug>=3.0.0 in d:\\deep learning with pytorch\\_pytorch_\\.venv\\lib\\site-packages (from flask) (3.0.3)\n",
      "Requirement already satisfied: Jinja2>=3.1.2 in d:\\deep learning with pytorch\\_pytorch_\\.venv\\lib\\site-packages (from flask) (3.1.2)\n",
      "Requirement already satisfied: itsdangerous>=2.1.2 in d:\\deep learning with pytorch\\_pytorch_\\.venv\\lib\\site-packages (from flask) (2.2.0)\n",
      "Requirement already satisfied: click>=8.1.3 in d:\\deep learning with pytorch\\_pytorch_\\.venv\\lib\\site-packages (from flask) (8.1.7)\n",
      "Requirement already satisfied: blinker>=1.6.2 in d:\\deep learning with pytorch\\_pytorch_\\.venv\\lib\\site-packages (from flask) (1.8.2)\n",
      "Requirement already satisfied: importlib-metadata>=3.6.0 in d:\\deep learning with pytorch\\_pytorch_\\.venv\\lib\\site-packages (from flask) (6.8.0)\n",
      "Requirement already satisfied: jupyter-core!=5.0.*,>=4.12 in d:\\deep learning with pytorch\\_pytorch_\\.venv\\lib\\site-packages (from jupyter_client) (5.3.1)\n",
      "Requirement already satisfied: python-dateutil>=2.8.2 in d:\\deep learning with pytorch\\_pytorch_\\.venv\\lib\\site-packages (from jupyter_client) (2.8.2)\n",
      "Requirement already satisfied: pyzmq>=23.0 in d:\\deep learning with pytorch\\_pytorch_\\.venv\\lib\\site-packages (from jupyter_client) (25.1.1)\n",
      "Requirement already satisfied: tornado>=6.2 in d:\\deep learning with pytorch\\_pytorch_\\.venv\\lib\\site-packages (from jupyter_client) (6.3.3)\n",
      "Requirement already satisfied: traitlets>=5.3 in d:\\deep learning with pytorch\\_pytorch_\\.venv\\lib\\site-packages (from jupyter_client) (5.10.1)\n",
      "Requirement already satisfied: colorama in d:\\deep learning with pytorch\\_pytorch_\\.venv\\lib\\site-packages (from click>=8.1.3->flask) (0.4.6)\n",
      "Requirement already satisfied: zipp>=0.5 in d:\\deep learning with pytorch\\_pytorch_\\.venv\\lib\\site-packages (from importlib-metadata>=3.6.0->flask) (3.17.0)\n",
      "Requirement already satisfied: MarkupSafe>=2.0 in d:\\deep learning with pytorch\\_pytorch_\\.venv\\lib\\site-packages (from Jinja2>=3.1.2->flask) (2.1.3)\n",
      "Requirement already satisfied: platformdirs>=2.5 in d:\\deep learning with pytorch\\_pytorch_\\.venv\\lib\\site-packages (from jupyter-core!=5.0.*,>=4.12->jupyter_client) (3.10.0)\n",
      "Requirement already satisfied: pywin32>=300 in d:\\deep learning with pytorch\\_pytorch_\\.venv\\lib\\site-packages (from jupyter-core!=5.0.*,>=4.12->jupyter_client) (306)\n",
      "Requirement already satisfied: six>=1.5 in d:\\deep learning with pytorch\\_pytorch_\\.venv\\lib\\site-packages (from python-dateutil>=2.8.2->jupyter_client) (1.16.0)\n"
     ]
    },
    {
     "name": "stderr",
     "output_type": "stream",
     "text": [
      "\n",
      "[notice] A new release of pip is available: 23.2.1 -> 24.0\n",
      "[notice] To update, run: python.exe -m pip install --upgrade pip\n"
     ]
    }
   ],
   "source": [
    "!pip install flask jupyter_client"
   ]
  },
  {
   "cell_type": "code",
   "execution_count": 2,
   "metadata": {},
   "outputs": [
    {
     "name": "stdout",
     "output_type": "stream",
     "text": [
      "Requirement already satisfied: flask-cors in d:\\deep learning with pytorch\\_pytorch_\\.venv\\lib\\site-packages (4.0.1)\n",
      "Requirement already satisfied: Flask>=0.9 in d:\\deep learning with pytorch\\_pytorch_\\.venv\\lib\\site-packages (from flask-cors) (3.0.3)\n",
      "Requirement already satisfied: Werkzeug>=3.0.0 in d:\\deep learning with pytorch\\_pytorch_\\.venv\\lib\\site-packages (from Flask>=0.9->flask-cors) (3.0.3)\n",
      "Requirement already satisfied: Jinja2>=3.1.2 in d:\\deep learning with pytorch\\_pytorch_\\.venv\\lib\\site-packages (from Flask>=0.9->flask-cors) (3.1.2)\n",
      "Requirement already satisfied: itsdangerous>=2.1.2 in d:\\deep learning with pytorch\\_pytorch_\\.venv\\lib\\site-packages (from Flask>=0.9->flask-cors) (2.2.0)\n",
      "Requirement already satisfied: click>=8.1.3 in d:\\deep learning with pytorch\\_pytorch_\\.venv\\lib\\site-packages (from Flask>=0.9->flask-cors) (8.1.7)\n",
      "Requirement already satisfied: blinker>=1.6.2 in d:\\deep learning with pytorch\\_pytorch_\\.venv\\lib\\site-packages (from Flask>=0.9->flask-cors) (1.8.2)\n",
      "Requirement already satisfied: importlib-metadata>=3.6.0 in d:\\deep learning with pytorch\\_pytorch_\\.venv\\lib\\site-packages (from Flask>=0.9->flask-cors) (6.8.0)\n",
      "Requirement already satisfied: colorama in d:\\deep learning with pytorch\\_pytorch_\\.venv\\lib\\site-packages (from click>=8.1.3->Flask>=0.9->flask-cors) (0.4.6)\n",
      "Requirement already satisfied: zipp>=0.5 in d:\\deep learning with pytorch\\_pytorch_\\.venv\\lib\\site-packages (from importlib-metadata>=3.6.0->Flask>=0.9->flask-cors) (3.17.0)\n",
      "Requirement already satisfied: MarkupSafe>=2.0 in d:\\deep learning with pytorch\\_pytorch_\\.venv\\lib\\site-packages (from Jinja2>=3.1.2->Flask>=0.9->flask-cors) (2.1.3)\n"
     ]
    },
    {
     "name": "stderr",
     "output_type": "stream",
     "text": [
      "\n",
      "[notice] A new release of pip is available: 23.2.1 -> 24.0\n",
      "[notice] To update, run: python.exe -m pip install --upgrade pip\n"
     ]
    }
   ],
   "source": [
    "!pip install flask-cors"
   ]
  },
  {
   "cell_type": "code",
   "execution_count": 3,
   "metadata": {},
   "outputs": [
    {
     "name": "stdout",
     "output_type": "stream",
     "text": [
      "Requirement already satisfied: openai in d:\\deep learning with pytorch\\_pytorch_\\.venv\\lib\\site-packages (1.28.1)\n",
      "Requirement already satisfied: anyio<5,>=3.5.0 in d:\\deep learning with pytorch\\_pytorch_\\.venv\\lib\\site-packages (from openai) (4.3.0)\n",
      "Requirement already satisfied: distro<2,>=1.7.0 in d:\\deep learning with pytorch\\_pytorch_\\.venv\\lib\\site-packages (from openai) (1.9.0)\n",
      "Requirement already satisfied: httpx<1,>=0.23.0 in d:\\deep learning with pytorch\\_pytorch_\\.venv\\lib\\site-packages (from openai) (0.27.0)\n",
      "Requirement already satisfied: pydantic<3,>=1.9.0 in d:\\deep learning with pytorch\\_pytorch_\\.venv\\lib\\site-packages (from openai) (2.7.1)\n",
      "Requirement already satisfied: sniffio in d:\\deep learning with pytorch\\_pytorch_\\.venv\\lib\\site-packages (from openai) (1.3.1)\n",
      "Requirement already satisfied: tqdm>4 in d:\\deep learning with pytorch\\_pytorch_\\.venv\\lib\\site-packages (from openai) (4.66.1)\n",
      "Requirement already satisfied: typing-extensions<5,>=4.7 in d:\\deep learning with pytorch\\_pytorch_\\.venv\\lib\\site-packages (from openai) (4.8.0)\n",
      "Requirement already satisfied: idna>=2.8 in d:\\deep learning with pytorch\\_pytorch_\\.venv\\lib\\site-packages (from anyio<5,>=3.5.0->openai) (3.4)\n",
      "Requirement already satisfied: exceptiongroup>=1.0.2 in d:\\deep learning with pytorch\\_pytorch_\\.venv\\lib\\site-packages (from anyio<5,>=3.5.0->openai) (1.1.3)\n",
      "Requirement already satisfied: certifi in d:\\deep learning with pytorch\\_pytorch_\\.venv\\lib\\site-packages (from httpx<1,>=0.23.0->openai) (2023.7.22)\n",
      "Requirement already satisfied: httpcore==1.* in d:\\deep learning with pytorch\\_pytorch_\\.venv\\lib\\site-packages (from httpx<1,>=0.23.0->openai) (1.0.5)\n",
      "Requirement already satisfied: h11<0.15,>=0.13 in d:\\deep learning with pytorch\\_pytorch_\\.venv\\lib\\site-packages (from httpcore==1.*->httpx<1,>=0.23.0->openai) (0.14.0)\n",
      "Requirement already satisfied: annotated-types>=0.4.0 in d:\\deep learning with pytorch\\_pytorch_\\.venv\\lib\\site-packages (from pydantic<3,>=1.9.0->openai) (0.6.0)\n",
      "Requirement already satisfied: pydantic-core==2.18.2 in d:\\deep learning with pytorch\\_pytorch_\\.venv\\lib\\site-packages (from pydantic<3,>=1.9.0->openai) (2.18.2)\n",
      "Requirement already satisfied: colorama in d:\\deep learning with pytorch\\_pytorch_\\.venv\\lib\\site-packages (from tqdm>4->openai) (0.4.6)\n",
      "Note: you may need to restart the kernel to use updated packages.\n"
     ]
    },
    {
     "name": "stderr",
     "output_type": "stream",
     "text": [
      "\n",
      "[notice] A new release of pip is available: 23.2.1 -> 24.0\n",
      "[notice] To update, run: python.exe -m pip install --upgrade pip\n"
     ]
    }
   ],
   "source": [
    "pip install --upgrade openai"
   ]
  },
  {
   "cell_type": "code",
   "execution_count": 16,
   "metadata": {},
   "outputs": [
    {
     "name": "stdout",
     "output_type": "stream",
     "text": [
      "1.28.1\n"
     ]
    }
   ],
   "source": [
    "import openai\n",
    "print(openai.__version__)"
   ]
  },
  {
   "cell_type": "code",
   "execution_count": 17,
   "metadata": {},
   "outputs": [
    {
     "name": "stdout",
     "output_type": "stream",
     "text": [
      "Requirement already satisfied: python-pptx in d:\\deep learning with pytorch\\_pytorch_\\.venv\\lib\\site-packages (0.6.23)\n",
      "Requirement already satisfied: lxml>=3.1.0 in d:\\deep learning with pytorch\\_pytorch_\\.venv\\lib\\site-packages (from python-pptx) (4.9.3)\n",
      "Requirement already satisfied: Pillow>=3.3.2 in d:\\deep learning with pytorch\\_pytorch_\\.venv\\lib\\site-packages (from python-pptx) (10.0.1)\n",
      "Requirement already satisfied: XlsxWriter>=0.5.7 in d:\\deep learning with pytorch\\_pytorch_\\.venv\\lib\\site-packages (from python-pptx) (3.2.0)\n",
      "Note: you may need to restart the kernel to use updated packages.\n"
     ]
    },
    {
     "name": "stderr",
     "output_type": "stream",
     "text": [
      "\n",
      "[notice] A new release of pip is available: 23.2.1 -> 24.0\n",
      "[notice] To update, run: python.exe -m pip install --upgrade pip\n"
     ]
    }
   ],
   "source": [
    "pip install python-pptx"
   ]
  },
  {
   "cell_type": "code",
   "execution_count": 18,
   "metadata": {},
   "outputs": [
    {
     "name": "stdout",
     "output_type": "stream",
     "text": [
      "Requirement already satisfied: openpyxl in d:\\deep learning with pytorch\\_pytorch_\\.venv\\lib\\site-packages (3.1.2)\n",
      "Requirement already satisfied: et-xmlfile in d:\\deep learning with pytorch\\_pytorch_\\.venv\\lib\\site-packages (from openpyxl) (1.1.0)\n",
      "Note: you may need to restart the kernel to use updated packages.\n"
     ]
    },
    {
     "name": "stderr",
     "output_type": "stream",
     "text": [
      "\n",
      "[notice] A new release of pip is available: 23.2.1 -> 24.0\n",
      "[notice] To update, run: python.exe -m pip install --upgrade pip\n"
     ]
    }
   ],
   "source": [
    "pip install openpyxl\n"
   ]
  },
  {
   "cell_type": "code",
   "execution_count": 40,
   "metadata": {},
   "outputs": [],
   "source": [
    "import jupyter_client\n",
    "from flask import Flask, request, jsonify, render_template, send_file\n",
    "from flask_cors import CORS\n",
    "from pptx import Presentation\n",
    "from pptx.util import Pt\n",
    "import os\n",
    "import io\n",
    "from pptx.enum.text import PP_ALIGN\n",
    "from pptx.dml.color import RGBColor\n",
    "from openai import OpenAI\n",
    "import base64\n",
    "from pptx.enum.shapes import MSO_SHAPE_TYPE\n",
    "import pandas as pd"
   ]
  },
  {
   "cell_type": "code",
   "execution_count": 41,
   "metadata": {},
   "outputs": [],
   "source": [
    "app = Flask(__name__)\n",
    "CORS(app, resources={r\"/*\": {\"origins\": \"http://localhost:3000\"}})\n",
    "# CORS(app)\n",
    "donor_data=[]"
   ]
  },
  {
   "cell_type": "code",
   "execution_count": 42,
   "metadata": {},
   "outputs": [
    {
     "name": "stdout",
     "output_type": "stream",
     "text": [
      " * Serving Flask app '__main__'\n",
      " * Debug mode: on\n"
     ]
    },
    {
     "name": "stderr",
     "output_type": "stream",
     "text": [
      "WARNING: This is a development server. Do not use it in a production deployment. Use a production WSGI server instead.\n",
      " * Running on http://127.0.0.1:8000\n",
      "Press CTRL+C to quit\n",
      "127.0.0.1 - - [12/May/2024 16:45:44] \"OPTIONS /send-gen-ppt HTTP/1.1\" 200 -\n"
     ]
    },
    {
     "name": "stdout",
     "output_type": "stream",
     "text": [
      "sk-proj-OjvAkDmp5Viz6fMK98DnT3BlbkFJ2rrlkQUdax13LWhOOMA6\n"
     ]
    },
    {
     "name": "stderr",
     "output_type": "stream",
     "text": [
      "127.0.0.1 - - [12/May/2024 16:45:47] \"POST /send-gen-ppt HTTP/1.1\" 200 -\n"
     ]
    },
    {
     "name": "stdout",
     "output_type": "stream",
     "text": [
      "Slide: Education \n",
      "Content:\n",
      "- Providing quality education to underprivileged children\n",
      "- Running innovative educational programs to enhance learning outcomes\n",
      "- Partnering with schools and institutions to improve educational infrastructure\n",
      "- Conducting skill development workshops for students\n",
      "\n",
      "Slide: Empowerment\n",
      "Content:\n",
      "- Empowering women through vocational training and entrepreneurship opportunities\n",
      "- Providing healthcare services to improve the well-being of communities\n",
      "- Advocating for gender equality and women’s rights\n",
      "- Supporting sustainable livelihood initiatives for marginalized groups\n",
      "\n",
      "Slide: Impact\n",
      "Content:\n",
      "- Highlighting success stories of individuals whose lives have been positively impacted\n",
      "- Showcasing the measurable outcomes of our interventions in the community\n",
      "- Sharing testimonials from beneficiaries, partners, and stakeholders\n",
      "- Illustrating our commitment to transparency, accountability, and sustainability\n"
     ]
    },
    {
     "name": "stderr",
     "output_type": "stream",
     "text": [
      "127.0.0.1 - - [12/May/2024 16:54:26] \"OPTIONS /send-gen-ppt HTTP/1.1\" 200 -\n"
     ]
    },
    {
     "name": "stdout",
     "output_type": "stream",
     "text": [
      "sk-proj-OjvAkDmp5Viz6fMK98DnT3BlbkFJ2rrlkQUdax13LWhOOMA6\n"
     ]
    },
    {
     "name": "stderr",
     "output_type": "stream",
     "text": [
      "127.0.0.1 - - [12/May/2024 16:54:30] \"POST /send-gen-ppt HTTP/1.1\" 200 -\n"
     ]
    },
    {
     "name": "stdout",
     "output_type": "stream",
     "text": [
      "Slide: Introduction\n",
      "Content:\n",
      "- SmilesUp Foundation: Bengaluru based NGO committed to animal welfare\n",
      "- Established track record of impactful projects in Karnataka\n",
      "- Dedicated team of professionals and volunteers\n",
      "- Focus on holistic animal care and community education\n",
      "\n",
      "Slide: Funding Needs\n",
      "Content:\n",
      "- Vaccination and medical care for stray animals\n",
      "- Rescue and rehabilitation programs\n",
      "- Awareness campaigns on animal welfare\n",
      "- Support for sustainable projects for long-term impact\n",
      "\n",
      "Slide: Donor Opportunities\n",
      "Content:\n",
      "- Tax-exempt donations for both individuals and corporations\n",
      "- Transparent allocation of funds with regular updates\n",
      "- Sponsorship opportunities for specific projects\n",
      "- Collaboration and recognition opportunities for donors\n"
     ]
    }
   ],
   "source": [
    "@app.route('/send-gen-ppt', methods=['POST'])\n",
    "def receive_message():\n",
    "    # data = request.json  # Assuming JSON payload\n",
    "    # if not data:\n",
    "    #     return {\"error\": \"No data received.\"}\n",
    "    # ans = data['searchQuery']\n",
    "    # print(ans)\n",
    "    api_key = \"sk-proj-OjvAkDmp5Viz6fMK98DnT3BlbkFJ2rrlkQUdax13LWhOOMA6\"  # Fetch your API key from environment variables\n",
    "    if not api_key:\n",
    "        return {\"error\": \"OpenAI API key not found.\"}\n",
    "    with open(\"abcd.txt\",\"r\") as f:\n",
    "        ans=f.read()\n",
    "\n",
    "    print(api_key)\n",
    "    client = OpenAI(api_key=api_key)\n",
    "\n",
    "    TEMPLATE_FILE = r\"D:\\hackblr\\frontend--search\\pages\\notebooks\\template.pptx\"\n",
    "    if not os.path.exists(TEMPLATE_FILE):\n",
    "        return {\"error\": \"Template file not found.\"}\n",
    "\n",
    "    presentation_title=\"ABCD\"\n",
    "    slide_contents = ans\n",
    "\n",
    "    user_message_content = f\"Create a presentation with 3 slides.\\n\" \\\n",
    "                           f\"Presentation title: {presentation_title}\\n\" \\\n",
    "                           f\"Slide content: {slide_contents}\\n\"\n",
    "\n",
    "    chat_completion = client.chat.completions.create(\n",
    "        messages=[\n",
    "            {\"role\": \"system\", \"content\": \"Generate a professional ppt for an ngo/npo looking to fundraise from donors. Assume yourself as a mid sized ngo/npo in Bengaluru, Karnataka named SmilesUp Foundation. Make a presentation for the NPO. For the PowerPoint presentation, please follow this structured format: Slide: Name of Title 1  Content: - 4 Bullet points about the topic in structured and detailed way Slide : Name of Title 2   Content: - 4 more bullet points without any repetition ,Slide: Name of Title 3  Content: 4 more bullet points which detailed review about the topic without repetition. I want All the bullet points to be given under '''Content''' keyword for every response and I need this structure and nothing else,remember you are pitching your idea and not giving suggestion to pitch\"}\n",
    ",\n",
    "            {\"role\": \"user\", \"content\": user_message_content},\n",
    "        ],\n",
    "        model=\"gpt-3.5-turbo\",\n",
    "    )\n",
    "    print(chat_completion.choices[0].message.content)\n",
    "    if chat_completion.choices[0].message.content:\n",
    "        generated_text = chat_completion.choices[0].message.content\n",
    "\n",
    "        presentation = Presentation(TEMPLATE_FILE)\n",
    "\n",
    "        slides = generated_text.split(\"Slide\")\n",
    "\n",
    "        if len(slides) - 1 <= len(presentation.slides):\n",
    "            for i, slide_content in enumerate(slides[1:], start=0):\n",
    "                content_lines = slide_content.strip().split(\"\\n\")\n",
    "                if len(content_lines) >= 2:\n",
    "                    slide_title = content_lines[0].strip()\n",
    "                    slide_content = content_lines[1:]  # Extract bullet points\n",
    "\n",
    "                    slide = presentation.slides[i]\n",
    "                    title = slide.shapes.title\n",
    "                    content_box = slide.placeholders[1]\n",
    "\n",
    "                    title.text = slide_title\n",
    "                    title.text_frame.paragraphs[0].font.color.rgb = RGBColor(255, 255, 255)\n",
    "\n",
    "                    content_box.text = \"\"  # Clear existing text\n",
    "                    content_frame = content_box.text_frame\n",
    "                    content_frame.clear()  # Clear existing paragraphs\n",
    "                    for point in slide_content:\n",
    "                        p = content_frame.add_paragraph()\n",
    "                        p.text = point.strip()\n",
    "                        p.font.color.rgb = RGBColor(255, 255, 255)\n",
    "                        p.space_after = Pt(14)  # Adjust spacing between bullet points\n",
    "\n",
    "        else:\n",
    "            return {\"error\": \"The template has fewer slides than required.\"}\n",
    "\n",
    "\n",
    "        pptx_bytes = io.BytesIO()\n",
    "        presentation.save(pptx_bytes)\n",
    "        pptx_bytes.seek(0)\n",
    "\n",
    "        # Convert the PowerPoint file data to a base64-encoded string\n",
    "        pptx_file_base64 = base64.b64encode(pptx_bytes.getvalue()).decode('utf-8')\n",
    "\n",
    "        a=chat_completion.choices[0].message.content.replace(\"Slide:\",\"Title:\")\n",
    "        a=a.replace(\"-\",\"\\n\")\n",
    "        # Create a custom response object containing both the generated text and the base64-encoded PowerPoint file\n",
    "        response_data = {\n",
    "            \"generated_text\": a,\n",
    "            \"pptx_file_base64\": pptx_file_base64\n",
    "        }\n",
    "\n",
    "        return jsonify(response_data)\n",
    "\n",
    "    else:\n",
    "        return {\"error\": \"No response from OpenAI.\"}\n",
    "\n",
    "\n",
    "@app.route(\"/receive-donor-name\", methods=['POST'])\n",
    "def return_home():\n",
    "    data = request.json  # Assuming JSON payload\n",
    "    if not data:\n",
    "        return {\"error\": \"No data received.\"}\n",
    "    ans = data['searchQuery']\n",
    "\n",
    "    return jsonify({\n",
    "        \"message\" : \"Message-Gone\"\n",
    "    })\n",
    "app.run(debug=True, use_reloader=False, port=8000)"
   ]
  },
  {
   "cell_type": "code",
   "execution_count": null,
   "metadata": {},
   "outputs": [
    {
     "name": "stdout",
     "output_type": "stream",
     "text": [
      "[['Provided $35,000 in funding for a NeuroScience lecture series at a local library.', 'Provided $35,000 in funding for a NeuroScience lecture series at a local library.', 'Provided $35,000 in funding for a NeuroScience lecture series at a local library.']]\n"
     ]
    }
   ],
   "source": [
    "import pandas as pd\n",
    "\n",
    "def find_data_for_name(name, csv_path):\n",
    "    # Read the dataset\n",
    "    df = pd.read_csv(csv_path)\n",
    "    \n",
    "    # Check if the name is present in the second column\n",
    "    filtered_df = df[df.iloc[:, 1] == name]\n",
    "    \n",
    "    # If the name is found, return corresponding data from columns 4, 5, and 6\n",
    "    if not filtered_df.empty:\n",
    "        data = filtered_df.iloc[:, [3, 4, 5]].values.tolist()\n",
    "        return data\n",
    "    else:\n",
    "        return \"Name not found in the dataset\"\n",
    "\n",
    "# Example usage\n",
    "ans = \"Mr.M.K.Sehgal \"\n",
    "dataset_path = r'C:\\Users\\adith\\Desktop\\frontend--search\\pages\\notebooks\\datasets\\donor_history.csv'\n",
    "\n",
    "result = find_data_for_name(ans, dataset_path)\n",
    "print(result)\n"
   ]
  },
  {
   "cell_type": "code",
   "execution_count": null,
   "metadata": {},
   "outputs": [
    {
     "name": "stdout",
     "output_type": "stream",
     "text": [
      "Name not found in the dataset\n"
     ]
    }
   ],
   "source": [
    "import pandas as pd\n",
    "\n",
    "def find_data_for_name(name, csv_path):\n",
    "    # Read the dataset\n",
    "    df = pd.read_csv(csv_path)\n",
    "    \n",
    "    # Convert the name to string\n",
    "    name = str(name)\n",
    "    \n",
    "    # Check if the name is present in the second column\n",
    "    filtered_df = df[df.iloc[:, 1].astype(str).str.strip() == name]\n",
    "    \n",
    "    # If the name is found, return corresponding data from columns 4, 5, and 6\n",
    "    if not filtered_df.empty:\n",
    "        # Fill NaN values with empty strings\n",
    "        filtered_df.fillna('', inplace=True)\n",
    "        data = filtered_df.iloc[:, [3, 4, 5]].values.tolist()\n",
    "        return data\n",
    "    else:\n",
    "        return \"Name not found in the dataset\"\n",
    "\n",
    "# Example usage\n",
    "ans = \"Mr.M.K.Sehgal \"\n",
    "dataset_path = r'C:\\Users\\adith\\Desktop\\frontend--search\\pages\\notebooks\\datasets\\donor_history.csv'\n",
    "\n",
    "result = find_data_for_name(ans, dataset_path)\n",
    "print(result)\n"
   ]
  },
  {
   "cell_type": "code",
   "execution_count": null,
   "metadata": {},
   "outputs": [
    {
     "data": {
      "text/html": [
       "<div>\n",
       "<style scoped>\n",
       "    .dataframe tbody tr th:only-of-type {\n",
       "        vertical-align: middle;\n",
       "    }\n",
       "\n",
       "    .dataframe tbody tr th {\n",
       "        vertical-align: top;\n",
       "    }\n",
       "\n",
       "    .dataframe thead th {\n",
       "        text-align: right;\n",
       "    }\n",
       "</style>\n",
       "<table border=\"1\" class=\"dataframe\">\n",
       "  <thead>\n",
       "    <tr style=\"text-align: right;\">\n",
       "      <th></th>\n",
       "      <th>Cause</th>\n",
       "      <th>Donor_Name</th>\n",
       "      <th>Amount</th>\n",
       "      <th>Unnamed: 3</th>\n",
       "      <th>Unnamed: 4</th>\n",
       "      <th>Unnamed: 5</th>\n",
       "      <th>Unnamed: 6</th>\n",
       "      <th>Unnamed: 7</th>\n",
       "      <th>Unnamed: 8</th>\n",
       "      <th>Unnamed: 9</th>\n",
       "      <th>...</th>\n",
       "      <th>Unnamed: 16</th>\n",
       "      <th>Unnamed: 17</th>\n",
       "      <th>Unnamed: 18</th>\n",
       "      <th>Unnamed: 19</th>\n",
       "      <th>Unnamed: 20</th>\n",
       "      <th>Unnamed: 21</th>\n",
       "      <th>Unnamed: 22</th>\n",
       "      <th>Unnamed: 23</th>\n",
       "      <th>Unnamed: 24</th>\n",
       "      <th>Unnamed: 25</th>\n",
       "    </tr>\n",
       "  </thead>\n",
       "  <tbody>\n",
       "    <tr>\n",
       "      <th>0</th>\n",
       "      <td>NeuroScience</td>\n",
       "      <td>DrR.P. &amp; Mrs.T.Sengupta</td>\n",
       "      <td>$1 Million</td>\n",
       "      <td>NaN</td>\n",
       "      <td>NaN</td>\n",
       "      <td>NaN</td>\n",
       "      <td>NaN</td>\n",
       "      <td>NaN</td>\n",
       "      <td>NaN</td>\n",
       "      <td>NaN</td>\n",
       "      <td>...</td>\n",
       "      <td>NaN</td>\n",
       "      <td>NaN</td>\n",
       "      <td>NaN</td>\n",
       "      <td>NaN</td>\n",
       "      <td>NaN</td>\n",
       "      <td>NaN</td>\n",
       "      <td>NaN</td>\n",
       "      <td>NaN</td>\n",
       "      <td>NaN</td>\n",
       "      <td>NaN</td>\n",
       "    </tr>\n",
       "    <tr>\n",
       "      <th>1</th>\n",
       "      <td>NeuroScience</td>\n",
       "      <td>Armenian Church of Nazareth, Calcutta</td>\n",
       "      <td>$5,00,000</td>\n",
       "      <td>NaN</td>\n",
       "      <td>NaN</td>\n",
       "      <td>NaN</td>\n",
       "      <td>NaN</td>\n",
       "      <td>NaN</td>\n",
       "      <td>NaN</td>\n",
       "      <td>NaN</td>\n",
       "      <td>...</td>\n",
       "      <td>NaN</td>\n",
       "      <td>NaN</td>\n",
       "      <td>NaN</td>\n",
       "      <td>NaN</td>\n",
       "      <td>NaN</td>\n",
       "      <td>NaN</td>\n",
       "      <td>NaN</td>\n",
       "      <td>NaN</td>\n",
       "      <td>NaN</td>\n",
       "      <td>NaN</td>\n",
       "    </tr>\n",
       "    <tr>\n",
       "      <th>2</th>\n",
       "      <td>NeuroScience</td>\n",
       "      <td>Sunita Dalmia Foundation</td>\n",
       "      <td>$2,50,000</td>\n",
       "      <td>NaN</td>\n",
       "      <td>NaN</td>\n",
       "      <td>NaN</td>\n",
       "      <td>NaN</td>\n",
       "      <td>NaN</td>\n",
       "      <td>NaN</td>\n",
       "      <td>NaN</td>\n",
       "      <td>...</td>\n",
       "      <td>NaN</td>\n",
       "      <td>NaN</td>\n",
       "      <td>NaN</td>\n",
       "      <td>NaN</td>\n",
       "      <td>NaN</td>\n",
       "      <td>NaN</td>\n",
       "      <td>NaN</td>\n",
       "      <td>NaN</td>\n",
       "      <td>NaN</td>\n",
       "      <td>NaN</td>\n",
       "    </tr>\n",
       "    <tr>\n",
       "      <th>3</th>\n",
       "      <td>NeuroScience</td>\n",
       "      <td>Madhu Saraf</td>\n",
       "      <td>$2,50,000</td>\n",
       "      <td>NaN</td>\n",
       "      <td>NaN</td>\n",
       "      <td>NaN</td>\n",
       "      <td>NaN</td>\n",
       "      <td>NaN</td>\n",
       "      <td>NaN</td>\n",
       "      <td>NaN</td>\n",
       "      <td>...</td>\n",
       "      <td>NaN</td>\n",
       "      <td>NaN</td>\n",
       "      <td>NaN</td>\n",
       "      <td>NaN</td>\n",
       "      <td>NaN</td>\n",
       "      <td>NaN</td>\n",
       "      <td>NaN</td>\n",
       "      <td>NaN</td>\n",
       "      <td>NaN</td>\n",
       "      <td>NaN</td>\n",
       "    </tr>\n",
       "    <tr>\n",
       "      <th>4</th>\n",
       "      <td>NeuroScience</td>\n",
       "      <td>Infinity IT Park, Kolkata</td>\n",
       "      <td>$2,50,000</td>\n",
       "      <td>NaN</td>\n",
       "      <td>NaN</td>\n",
       "      <td>NaN</td>\n",
       "      <td>NaN</td>\n",
       "      <td>NaN</td>\n",
       "      <td>NaN</td>\n",
       "      <td>NaN</td>\n",
       "      <td>...</td>\n",
       "      <td>NaN</td>\n",
       "      <td>NaN</td>\n",
       "      <td>NaN</td>\n",
       "      <td>NaN</td>\n",
       "      <td>NaN</td>\n",
       "      <td>NaN</td>\n",
       "      <td>NaN</td>\n",
       "      <td>NaN</td>\n",
       "      <td>NaN</td>\n",
       "      <td>NaN</td>\n",
       "    </tr>\n",
       "  </tbody>\n",
       "</table>\n",
       "<p>5 rows × 26 columns</p>\n",
       "</div>"
      ],
      "text/plain": [
       "          Cause                             Donor_Name      Amount  \\\n",
       "0  NeuroScience               DrR.P. & Mrs.T.Sengupta   $1 Million   \n",
       "1  NeuroScience  Armenian Church of Nazareth, Calcutta   $5,00,000   \n",
       "2  NeuroScience              Sunita Dalmia Foundation    $2,50,000   \n",
       "3  NeuroScience                            Madhu Saraf   $2,50,000   \n",
       "4  NeuroScience              Infinity IT Park, Kolkata   $2,50,000   \n",
       "\n",
       "   Unnamed: 3  Unnamed: 4  Unnamed: 5  Unnamed: 6  Unnamed: 7  Unnamed: 8  \\\n",
       "0         NaN         NaN         NaN         NaN         NaN         NaN   \n",
       "1         NaN         NaN         NaN         NaN         NaN         NaN   \n",
       "2         NaN         NaN         NaN         NaN         NaN         NaN   \n",
       "3         NaN         NaN         NaN         NaN         NaN         NaN   \n",
       "4         NaN         NaN         NaN         NaN         NaN         NaN   \n",
       "\n",
       "   Unnamed: 9  ...  Unnamed: 16  Unnamed: 17  Unnamed: 18  Unnamed: 19  \\\n",
       "0         NaN  ...          NaN          NaN          NaN          NaN   \n",
       "1         NaN  ...          NaN          NaN          NaN          NaN   \n",
       "2         NaN  ...          NaN          NaN          NaN          NaN   \n",
       "3         NaN  ...          NaN          NaN          NaN          NaN   \n",
       "4         NaN  ...          NaN          NaN          NaN          NaN   \n",
       "\n",
       "   Unnamed: 20  Unnamed: 21  Unnamed: 22  Unnamed: 23  Unnamed: 24  \\\n",
       "0          NaN          NaN          NaN          NaN          NaN   \n",
       "1          NaN          NaN          NaN          NaN          NaN   \n",
       "2          NaN          NaN          NaN          NaN          NaN   \n",
       "3          NaN          NaN          NaN          NaN          NaN   \n",
       "4          NaN          NaN          NaN          NaN          NaN   \n",
       "\n",
       "   Unnamed: 25  \n",
       "0          NaN  \n",
       "1          NaN  \n",
       "2          NaN  \n",
       "3          NaN  \n",
       "4          NaN  \n",
       "\n",
       "[5 rows x 26 columns]"
      ]
     },
     "execution_count": 118,
     "metadata": {},
     "output_type": "execute_result"
    }
   ],
   "source": [
    "df.head()"
   ]
  },
  {
   "cell_type": "code",
   "execution_count": null,
   "metadata": {},
   "outputs": [],
   "source": []
  }
 ],
 "metadata": {
  "kernelspec": {
   "display_name": "Python 3",
   "language": "python",
   "name": "python3"
  },
  "language_info": {
   "codemirror_mode": {
    "name": "ipython",
    "version": 3
   },
   "file_extension": ".py",
   "mimetype": "text/x-python",
   "name": "python",
   "nbconvert_exporter": "python",
   "pygments_lexer": "ipython3",
   "version": "3.10.11"
  }
 },
 "nbformat": 4,
 "nbformat_minor": 2
}
