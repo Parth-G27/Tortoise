{
 "cells": [
  {
   "cell_type": "code",
   "execution_count": 1,
   "metadata": {},
   "outputs": [
    {
     "name": "stdout",
     "output_type": "stream",
     "text": [
      "Requirement already satisfied: flask in d:\\deep learning with pytorch\\_pytorch_\\.venv\\lib\\site-packages (3.0.3)"
     ]
    },
    {
     "name": "stderr",
     "output_type": "stream",
     "text": [
      "\n",
      "[notice] A new release of pip is available: 23.2.1 -> 24.0\n",
      "[notice] To update, run: python.exe -m pip install --upgrade pip\n"
     ]
    },
    {
     "name": "stdout",
     "output_type": "stream",
     "text": [
      "\n",
      "Requirement already satisfied: jupyter_client in d:\\deep learning with pytorch\\_pytorch_\\.venv\\lib\\site-packages (8.3.1)\n",
      "Requirement already satisfied: Werkzeug>=3.0.0 in d:\\deep learning with pytorch\\_pytorch_\\.venv\\lib\\site-packages (from flask) (3.0.3)\n",
      "Requirement already satisfied: Jinja2>=3.1.2 in d:\\deep learning with pytorch\\_pytorch_\\.venv\\lib\\site-packages (from flask) (3.1.2)\n",
      "Requirement already satisfied: itsdangerous>=2.1.2 in d:\\deep learning with pytorch\\_pytorch_\\.venv\\lib\\site-packages (from flask) (2.2.0)\n",
      "Requirement already satisfied: click>=8.1.3 in d:\\deep learning with pytorch\\_pytorch_\\.venv\\lib\\site-packages (from flask) (8.1.7)\n",
      "Requirement already satisfied: blinker>=1.6.2 in d:\\deep learning with pytorch\\_pytorch_\\.venv\\lib\\site-packages (from flask) (1.8.2)\n",
      "Requirement already satisfied: importlib-metadata>=3.6.0 in d:\\deep learning with pytorch\\_pytorch_\\.venv\\lib\\site-packages (from flask) (6.8.0)\n",
      "Requirement already satisfied: jupyter-core!=5.0.*,>=4.12 in d:\\deep learning with pytorch\\_pytorch_\\.venv\\lib\\site-packages (from jupyter_client) (5.3.1)\n",
      "Requirement already satisfied: python-dateutil>=2.8.2 in d:\\deep learning with pytorch\\_pytorch_\\.venv\\lib\\site-packages (from jupyter_client) (2.8.2)\n",
      "Requirement already satisfied: pyzmq>=23.0 in d:\\deep learning with pytorch\\_pytorch_\\.venv\\lib\\site-packages (from jupyter_client) (25.1.1)\n",
      "Requirement already satisfied: tornado>=6.2 in d:\\deep learning with pytorch\\_pytorch_\\.venv\\lib\\site-packages (from jupyter_client) (6.3.3)\n",
      "Requirement already satisfied: traitlets>=5.3 in d:\\deep learning with pytorch\\_pytorch_\\.venv\\lib\\site-packages (from jupyter_client) (5.10.1)\n",
      "Requirement already satisfied: colorama in d:\\deep learning with pytorch\\_pytorch_\\.venv\\lib\\site-packages (from click>=8.1.3->flask) (0.4.6)\n",
      "Requirement already satisfied: zipp>=0.5 in d:\\deep learning with pytorch\\_pytorch_\\.venv\\lib\\site-packages (from importlib-metadata>=3.6.0->flask) (3.17.0)\n",
      "Requirement already satisfied: MarkupSafe>=2.0 in d:\\deep learning with pytorch\\_pytorch_\\.venv\\lib\\site-packages (from Jinja2>=3.1.2->flask) (2.1.3)\n",
      "Requirement already satisfied: platformdirs>=2.5 in d:\\deep learning with pytorch\\_pytorch_\\.venv\\lib\\site-packages (from jupyter-core!=5.0.*,>=4.12->jupyter_client) (3.10.0)\n",
      "Requirement already satisfied: pywin32>=300 in d:\\deep learning with pytorch\\_pytorch_\\.venv\\lib\\site-packages (from jupyter-core!=5.0.*,>=4.12->jupyter_client) (306)\n",
      "Requirement already satisfied: six>=1.5 in d:\\deep learning with pytorch\\_pytorch_\\.venv\\lib\\site-packages (from python-dateutil>=2.8.2->jupyter_client) (1.16.0)\n"
     ]
    }
   ],
   "source": [
    "!pip install flask jupyter_client"
   ]
  },
  {
   "cell_type": "code",
   "execution_count": 2,
   "metadata": {},
   "outputs": [
    {
     "name": "stdout",
     "output_type": "stream",
     "text": [
      "Requirement already satisfied: flask-cors in d:\\deep learning with pytorch\\_pytorch_\\.venv\\lib\\site-packages (4.0.1)\n",
      "Requirement already satisfied: Flask>=0.9 in d:\\deep learning with pytorch\\_pytorch_\\.venv\\lib\\site-packages (from flask-cors) (3.0.3)\n",
      "Requirement already satisfied: Werkzeug>=3.0.0 in d:\\deep learning with pytorch\\_pytorch_\\.venv\\lib\\site-packages (from Flask>=0.9->flask-cors) (3.0.3)\n",
      "Requirement already satisfied: Jinja2>=3.1.2 in d:\\deep learning with pytorch\\_pytorch_\\.venv\\lib\\site-packages (from Flask>=0.9->flask-cors) (3.1.2)\n",
      "Requirement already satisfied: itsdangerous>=2.1.2 in d:\\deep learning with pytorch\\_pytorch_\\.venv\\lib\\site-packages (from Flask>=0.9->flask-cors) (2.2.0)\n",
      "Requirement already satisfied: click>=8.1.3 in d:\\deep learning with pytorch\\_pytorch_\\.venv\\lib\\site-packages (from Flask>=0.9->flask-cors) (8.1.7)\n",
      "Requirement already satisfied: blinker>=1.6.2 in d:\\deep learning with pytorch\\_pytorch_\\.venv\\lib\\site-packages (from Flask>=0.9->flask-cors) (1.8.2)\n",
      "Requirement already satisfied: importlib-metadata>=3.6.0 in d:\\deep learning with pytorch\\_pytorch_\\.venv\\lib\\site-packages (from Flask>=0.9->flask-cors) (6.8.0)\n",
      "Requirement already satisfied: colorama in d:\\deep learning with pytorch\\_pytorch_\\.venv\\lib\\site-packages (from click>=8.1.3->Flask>=0.9->flask-cors) (0.4.6)\n",
      "Requirement already satisfied: zipp>=0.5 in d:\\deep learning with pytorch\\_pytorch_\\.venv\\lib\\site-packages (from importlib-metadata>=3.6.0->Flask>=0.9->flask-cors) (3.17.0)\n",
      "Requirement already satisfied: MarkupSafe>=2.0 in d:\\deep learning with pytorch\\_pytorch_\\.venv\\lib\\site-packages (from Jinja2>=3.1.2->Flask>=0.9->flask-cors) (2.1.3)\n"
     ]
    },
    {
     "name": "stderr",
     "output_type": "stream",
     "text": [
      "\n",
      "[notice] A new release of pip is available: 23.2.1 -> 24.0\n",
      "[notice] To update, run: python.exe -m pip install --upgrade pip\n"
     ]
    }
   ],
   "source": [
    "!pip install flask-cors"
   ]
  },
  {
   "cell_type": "code",
   "execution_count": 13,
   "metadata": {},
   "outputs": [],
   "source": [
    "import jupyter_client\n",
    "from flask import Flask, request, jsonify\n",
    "from flask_cors import CORS"
   ]
  },
  {
   "cell_type": "code",
   "execution_count": 14,
   "metadata": {},
   "outputs": [
    {
     "data": {
      "text/plain": [
       "<flask_cors.extension.CORS at 0x1eaa03e0eb0>"
      ]
     },
     "execution_count": 14,
     "metadata": {},
     "output_type": "execute_result"
    }
   ],
   "source": [
    "app = Flask(__name__)\n",
    "# CORS(app, resources={r\"/*\": {\"origins\": \"http://localhost:3000\"}})\n",
    "CORS(app)"
   ]
  },
  {
   "cell_type": "code",
   "execution_count": 15,
   "metadata": {},
   "outputs": [
    {
     "name": "stdout",
     "output_type": "stream",
     "text": [
      " * Serving Flask app '__main__'\n",
      " * Debug mode: on\n"
     ]
    },
    {
     "name": "stderr",
     "output_type": "stream",
     "text": [
      "WARNING: This is a development server. Do not use it in a production deployment. Use a production WSGI server instead.\n",
      " * Running on http://127.0.0.1:8000\n",
      "Press CTRL+C to quit\n",
      "127.0.0.1 - - [11/May/2024 20:33:37] \"OPTIONS /send-gen-ppt HTTP/1.1\" 200 -\n",
      "127.0.0.1 - - [11/May/2024 20:33:37] \"POST /send-gen-ppt HTTP/1.1\" 200 -\n",
      "127.0.0.1 - - [11/May/2024 20:33:37] \"GET /revert-gen-ppt HTTP/1.1\" 200 -\n"
     ]
    },
    {
     "name": "stdout",
     "output_type": "stream",
     "text": [
      "Hello\n"
     ]
    }
   ],
   "source": [
    "@app.route('/send-gen-ppt', methods=['POST'])\n",
    "def receive_message():\n",
    "    data = request.json  # Assuming JSON payload\n",
    "    ans = data['searchQuery']\n",
    "    print(ans)\n",
    "    return jsonify({\"message\": \"Search query received successfully\"})\n",
    "    # if 'searchQuery' in data:\n",
    "    #     search_query = data['searchQuery']\n",
    "    #     print(search_query)\n",
    "    #     # Process the search query here\n",
    "    #     return jsonify({\"message\": \"Search query received successfully\"})\n",
    "    # else:\n",
    "    #     return jsonify({\"error\": \"Missing 'searchQuery' field in JSON payload\"}), 400\n",
    "\n",
    "@app.route(\"/revert-gen-ppt\", methods=['GET'])\n",
    "def return_home():\n",
    "    return jsonify({\n",
    "        \"message\" : \"Message-Gone\"\n",
    "    })\n",
    "app.run(debug=True, use_reloader=False, port=8000)"
   ]
  }
 ],
 "metadata": {
  "kernelspec": {
   "display_name": "PyTorchWork",
   "language": "python",
   "name": "pytorchwork"
  },
  "language_info": {
   "codemirror_mode": {
    "name": "ipython",
    "version": 3
   },
   "file_extension": ".py",
   "mimetype": "text/x-python",
   "name": "python",
   "nbconvert_exporter": "python",
   "pygments_lexer": "ipython3",
   "version": "3.9.0"
  }
 },
 "nbformat": 4,
 "nbformat_minor": 2
}
