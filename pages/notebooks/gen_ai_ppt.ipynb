{
 "cells": [
  {
   "cell_type": "code",
   "execution_count": 1,
   "metadata": {},
   "outputs": [
    {
     "name": "stdout",
     "output_type": "stream",
     "text": [
      "Requirement already satisfied: flask in d:\\deep learning with pytorch\\_pytorch_\\.venv\\lib\\site-packages (3.0.3)"
     ]
    },
    {
     "name": "stderr",
     "output_type": "stream",
     "text": [
      "\n",
      "[notice] A new release of pip is available: 23.2.1 -> 24.0\n",
      "[notice] To update, run: python.exe -m pip install --upgrade pip\n"
     ]
    },
    {
     "name": "stdout",
     "output_type": "stream",
     "text": [
      "\n",
      "Requirement already satisfied: jupyter_client in d:\\deep learning with pytorch\\_pytorch_\\.venv\\lib\\site-packages (8.3.1)\n",
      "Requirement already satisfied: Werkzeug>=3.0.0 in d:\\deep learning with pytorch\\_pytorch_\\.venv\\lib\\site-packages (from flask) (3.0.3)\n",
      "Requirement already satisfied: Jinja2>=3.1.2 in d:\\deep learning with pytorch\\_pytorch_\\.venv\\lib\\site-packages (from flask) (3.1.2)\n",
      "Requirement already satisfied: itsdangerous>=2.1.2 in d:\\deep learning with pytorch\\_pytorch_\\.venv\\lib\\site-packages (from flask) (2.2.0)\n",
      "Requirement already satisfied: click>=8.1.3 in d:\\deep learning with pytorch\\_pytorch_\\.venv\\lib\\site-packages (from flask) (8.1.7)\n",
      "Requirement already satisfied: blinker>=1.6.2 in d:\\deep learning with pytorch\\_pytorch_\\.venv\\lib\\site-packages (from flask) (1.8.2)\n",
      "Requirement already satisfied: importlib-metadata>=3.6.0 in d:\\deep learning with pytorch\\_pytorch_\\.venv\\lib\\site-packages (from flask) (6.8.0)\n",
      "Requirement already satisfied: jupyter-core!=5.0.*,>=4.12 in d:\\deep learning with pytorch\\_pytorch_\\.venv\\lib\\site-packages (from jupyter_client) (5.3.1)\n",
      "Requirement already satisfied: python-dateutil>=2.8.2 in d:\\deep learning with pytorch\\_pytorch_\\.venv\\lib\\site-packages (from jupyter_client) (2.8.2)\n",
      "Requirement already satisfied: pyzmq>=23.0 in d:\\deep learning with pytorch\\_pytorch_\\.venv\\lib\\site-packages (from jupyter_client) (25.1.1)\n",
      "Requirement already satisfied: tornado>=6.2 in d:\\deep learning with pytorch\\_pytorch_\\.venv\\lib\\site-packages (from jupyter_client) (6.3.3)\n",
      "Requirement already satisfied: traitlets>=5.3 in d:\\deep learning with pytorch\\_pytorch_\\.venv\\lib\\site-packages (from jupyter_client) (5.10.1)\n",
      "Requirement already satisfied: colorama in d:\\deep learning with pytorch\\_pytorch_\\.venv\\lib\\site-packages (from click>=8.1.3->flask) (0.4.6)\n",
      "Requirement already satisfied: zipp>=0.5 in d:\\deep learning with pytorch\\_pytorch_\\.venv\\lib\\site-packages (from importlib-metadata>=3.6.0->flask) (3.17.0)\n",
      "Requirement already satisfied: MarkupSafe>=2.0 in d:\\deep learning with pytorch\\_pytorch_\\.venv\\lib\\site-packages (from Jinja2>=3.1.2->flask) (2.1.3)\n",
      "Requirement already satisfied: platformdirs>=2.5 in d:\\deep learning with pytorch\\_pytorch_\\.venv\\lib\\site-packages (from jupyter-core!=5.0.*,>=4.12->jupyter_client) (3.10.0)\n",
      "Requirement already satisfied: pywin32>=300 in d:\\deep learning with pytorch\\_pytorch_\\.venv\\lib\\site-packages (from jupyter-core!=5.0.*,>=4.12->jupyter_client) (306)\n",
      "Requirement already satisfied: six>=1.5 in d:\\deep learning with pytorch\\_pytorch_\\.venv\\lib\\site-packages (from python-dateutil>=2.8.2->jupyter_client) (1.16.0)\n"
     ]
    }
   ],
   "source": [
    "!pip install flask jupyter_client"
   ]
  },
  {
   "cell_type": "code",
   "execution_count": 2,
   "metadata": {},
   "outputs": [
    {
     "name": "stdout",
     "output_type": "stream",
     "text": [
      "Requirement already satisfied: flask-cors in d:\\deep learning with pytorch\\_pytorch_\\.venv\\lib\\site-packages (4.0.1)\n",
      "Requirement already satisfied: Flask>=0.9 in d:\\deep learning with pytorch\\_pytorch_\\.venv\\lib\\site-packages (from flask-cors) (3.0.3)\n",
      "Requirement already satisfied: Werkzeug>=3.0.0 in d:\\deep learning with pytorch\\_pytorch_\\.venv\\lib\\site-packages (from Flask>=0.9->flask-cors) (3.0.3)\n",
      "Requirement already satisfied: Jinja2>=3.1.2 in d:\\deep learning with pytorch\\_pytorch_\\.venv\\lib\\site-packages (from Flask>=0.9->flask-cors) (3.1.2)\n",
      "Requirement already satisfied: itsdangerous>=2.1.2 in d:\\deep learning with pytorch\\_pytorch_\\.venv\\lib\\site-packages (from Flask>=0.9->flask-cors) (2.2.0)\n",
      "Requirement already satisfied: click>=8.1.3 in d:\\deep learning with pytorch\\_pytorch_\\.venv\\lib\\site-packages (from Flask>=0.9->flask-cors) (8.1.7)\n",
      "Requirement already satisfied: blinker>=1.6.2 in d:\\deep learning with pytorch\\_pytorch_\\.venv\\lib\\site-packages (from Flask>=0.9->flask-cors) (1.8.2)\n",
      "Requirement already satisfied: importlib-metadata>=3.6.0 in d:\\deep learning with pytorch\\_pytorch_\\.venv\\lib\\site-packages (from Flask>=0.9->flask-cors) (6.8.0)\n",
      "Requirement already satisfied: colorama in d:\\deep learning with pytorch\\_pytorch_\\.venv\\lib\\site-packages (from click>=8.1.3->Flask>=0.9->flask-cors) (0.4.6)\n",
      "Requirement already satisfied: zipp>=0.5 in d:\\deep learning with pytorch\\_pytorch_\\.venv\\lib\\site-packages (from importlib-metadata>=3.6.0->Flask>=0.9->flask-cors) (3.17.0)\n",
      "Requirement already satisfied: MarkupSafe>=2.0 in d:\\deep learning with pytorch\\_pytorch_\\.venv\\lib\\site-packages (from Jinja2>=3.1.2->Flask>=0.9->flask-cors) (2.1.3)\n"
     ]
    },
    {
     "name": "stderr",
     "output_type": "stream",
     "text": [
      "\n",
      "[notice] A new release of pip is available: 23.2.1 -> 24.0\n",
      "[notice] To update, run: python.exe -m pip install --upgrade pip\n"
     ]
    }
   ],
   "source": [
    "!pip install flask-cors"
   ]
  },
  {
   "cell_type": "code",
   "execution_count": 11,
   "metadata": {},
   "outputs": [],
   "source": [
    "import jupyter_client\n",
    "from flask import Flask, request, jsonify\n",
    "from flask_cors import CORS"
   ]
  },
  {
   "cell_type": "code",
   "execution_count": 12,
   "metadata": {},
   "outputs": [
    {
     "data": {
      "text/plain": [
       "<flask_cors.extension.CORS at 0x1ed1aeb3040>"
      ]
     },
     "execution_count": 12,
     "metadata": {},
     "output_type": "execute_result"
    }
   ],
   "source": [
    "app = Flask(__name__)\n",
    "CORS(app)"
   ]
  },
  {
   "cell_type": "code",
   "execution_count": 13,
   "metadata": {},
   "outputs": [
    {
     "name": "stdout",
     "output_type": "stream",
     "text": [
      " * Serving Flask app '__main__'\n",
      " * Debug mode: on\n"
     ]
    },
    {
     "name": "stderr",
     "output_type": "stream",
     "text": [
      "WARNING: This is a development server. Do not use it in a production deployment. Use a production WSGI server instead.\n",
      " * Running on http://127.0.0.1:8443\n",
      "Press CTRL+C to quit\n",
      "127.0.0.1 - - [11/May/2024 19:07:03] code 400, message Bad request version ('\\x00\\x02\\x01\\x00\\x003\\x04ï\\x04í')\n",
      "127.0.0.1 - - [11/May/2024 19:07:03] \"\\x16\\x03\\x01\\x06ò\\x01\\x00\\x06î\\x03\\x03¯Ï³Ñ\\x18ðGK¼0\\x17\\x06Þ\\x08;ÖñYû=JõÔ³\\x17Ò` #¡== h\\x81Äpü\\x1aÙ\\x95°{MU ö\\x80~Ä\\x83ö=È§Ô\\x14CNT\\x11ý@0ñ\\x00 ºº\\x13\\x01\\x13\\x02\\x13\\x03À+À/À,À0Ì©Ì¨À\\x13À\\x14\\x00\\x9c\\x00\\x9d\\x00/\\x005\\x01\\x00\\x06\\x85jj\\x00\\x00\\x00\\x17\\x00\\x00\\x00#\\x00\\x00\\x00\\x0d\\x00\\x12\\x00\\x10\\x04\\x03\\x08\\x04\\x04\\x01\\x05\\x03\\x08\\x05\\x05\\x01\\x08\\x06\\x06\\x01\\x00\\x0b\\x00\\x02\\x01\\x00\\x003\\x04ï\\x04í\" HTTPStatus.BAD_REQUEST -\n",
      "127.0.0.1 - - [11/May/2024 19:07:04] code 400, message Bad request version ('\\x02h2\\x08http/1.1\\x00')\n",
      "127.0.0.1 - - [11/May/2024 19:07:04] \"\\x16\\x03\\x01\\x06Ò\\x01\\x00\\x06Î\\x03\\x03R4\\x0e.%\\x05\\x13Òá­O\\x84\\x841CàqËýÿ|7Ù\\x8cFû?G\\x09æ¥h \\x98>\\x0d\\x0dÓÂ7Üo<\\x8f\\x16Hua\\x8f¦\\x12Ù³ë±\\x85Wæ½g\\x84Þ\\x80]ô\\x00 **\\x13\\x01\\x13\\x02\\x13\\x03À+À/À,À0Ì©Ì¨À\\x13À\\x14\\x00\\x9c\\x00\\x9d\\x00/\\x005\\x01\\x00\\x06eÚÚ\\x00\\x00Di\\x00\\x05\\x00\\x03\\x02h2\\x00#\\x00\\x00\\x00\\x05\\x00\\x05\\x01\\x00\\x00\\x00\\x00þ\\x0d\\x00Ú\\x00\\x00\\x01\\x00\\x01¤\\x00 Þ\\x80¢1eç\\x8fÊ+&\\x86CË3¶\\x1aöÓAU\\x8cïU,'|\\x9e«\\x94\\x99*\\x16\\x00°ü\\x89\\x1d~â¨®ÙÈc½ôü´?%Æ`q6ô3DdR~³§\\x9dË©¢Ã\\x06Äý7[r¤\\x15ÔÜâ}¤\\x8b5ô¤\\x10\\x07aW(9°c×Î|bT\\x16gs¤\\x82xrQEP\\x1e\\x00ÜGXÉÜjºí(ÚªY+äÑô!\\x83×Ú7÷rûVà(\\x8aO\\x14\\x0b1xý\\x09Iè\"8\\x03a¬¤ÌQ?M2NHÏ{)\\x83MI»\\x97&×no»\\x05\\x8e¤\\x80CãeL».V¸°\\x88½0*\\x91XAÖ3^feWz10\\x15Ñ\\x19üÃÌÆpW\\x00-\\x00\\x02\\x01\\x01ÿ\\x01\\x00\\x01\\x00\\x00\\x1b\\x00\\x03\\x02\\x00\\x02\\x00\\x10\\x00\\x0e\\x00\\x0c\\x02h2\\x08http/1.1\\x00\" HTTPStatus.BAD_REQUEST -\n",
      "127.0.0.1 - - [11/May/2024 19:07:04] code 400, message Bad request version ('\\x00\\x02\\x01\\x00\\x00-\\x00\\x02\\x01\\x01\\x00\\x12\\x00\\x00\\x00')\n",
      "127.0.0.1 - - [11/May/2024 19:07:04] \"\\x16\\x03\\x01\\x07\\x12\\x01\\x00\\x07\\x0e\\x03\\x03\\x0c$\\x8a\\x8b¢SOÎ?o\\x9búÔ\\x8dôAÏ0Ì\\x03A7u\\x14\\x82ÊW¶¦Vj\\x9d ÛÙõÄ\\x0f6\\x84Ú4y\\x99«hlÆS.¾|\\x98ñ[­[û\\x8c\\x04 .cD?\\x00 jj\\x13\\x01\\x13\\x02\\x13\\x03À+À/À,À0Ì©Ì¨À\\x13À\\x14\\x00\\x9c\\x00\\x9d\\x00/\\x005\\x01\\x00\\x06¥::\\x00\\x00\\x00+\\x00\\x07\\x06êê\\x03\\x04\\x03\\x03\\x00\\x00\\x00\\x0e\\x00\\x0c\\x00\\x00\\x09localhost\\x00\\x1b\\x00\\x03\\x02\\x00\\x02Di\\x00\\x05\\x00\\x03\\x02h2\\x00\\x17\\x00\\x00\\x00\\x0b\\x00\\x02\\x01\\x00\\x00-\\x00\\x02\\x01\\x01\\x00\\x12\\x00\\x00\\x00\" HTTPStatus.BAD_REQUEST -\n",
      "127.0.0.1 - - [11/May/2024 19:07:04] code 400, message Bad request syntax ('\\x16\\x03\\x01\\x06²\\x01\\x00\\x06®\\x03\\x03j6´\\x8d8²%E\\xad®£\\x83eh\\x93')\n",
      "127.0.0.1 - - [11/May/2024 19:07:04] \"\\x16\\x03\\x01\\x06²\\x01\\x00\\x06®\\x03\\x03j6´\\x8d8²%E­®£\\x83eh\\x93\" HTTPStatus.BAD_REQUEST -\n"
     ]
    }
   ],
   "source": [
    "@app.route('/send-gen-ppt', methods=['POST'])\n",
    "def receive_message():\n",
    "    data = request.json  # Assuming JSON payload\n",
    "    \n",
    "    print(data['searchQuery'])\n",
    "\n",
    "\n",
    "\n",
    "@app.route(\"/revert-gen-ppt\", methods=['GET'])\n",
    "def return_home():\n",
    "  \n",
    "    return jsonify({\n",
    "        \"message\" : \"Message-Gone\"\n",
    "    })\n",
    "\n",
    "app.run(debug=True, use_reloader=False, port=8443)"
   ]
  }
 ],
 "metadata": {
  "kernelspec": {
   "display_name": "PyTorchWork",
   "language": "python",
   "name": "pytorchwork"
  },
  "language_info": {
   "codemirror_mode": {
    "name": "ipython",
    "version": 3
   },
   "file_extension": ".py",
   "mimetype": "text/x-python",
   "name": "python",
   "nbconvert_exporter": "python",
   "pygments_lexer": "ipython3",
   "version": "3.9.0"
  }
 },
 "nbformat": 4,
 "nbformat_minor": 2
}
